{
 "cells": [
  {
   "cell_type": "code",
   "execution_count": 1,
   "metadata": {},
   "outputs": [],
   "source": [
    "import numpy as np\n",
    "import tensorflow as tf"
   ]
  },
  {
   "cell_type": "code",
   "execution_count": 2,
   "metadata": {},
   "outputs": [],
   "source": [
    "# import mnist data\n",
    "mnist = tf.keras.datasets.mnist\n",
    "(x_train, y_train),(x_test, y_test) = mnist.load_data()\n",
    "x_train, x_test = x_train / 255.0, x_test / 255.0\n",
    "x_train = x_train.reshape([-1,28,28,1])\n",
    "x_test = x_test.reshape([-1,28,28,1])"
   ]
  },
  {
   "cell_type": "code",
   "execution_count": 3,
   "metadata": {},
   "outputs": [],
   "source": [
    "tf.keras.backend.clear_session()\n",
    "inputs = tf.keras.Input(shape=(28,28,1))  # keras Input returns a placeholder tensor\n",
    "c1 = tf.keras.layers.Conv2D(10, kernel_size=[5,5], padding='valid', \n",
    "                            input_shape=(28, 28, 1), activation='relu')(inputs)\n",
    "m1 = tf.keras.layers.MaxPool2D((2, 2), padding='valid')(c1)\n",
    "x = tf.keras.layers.Flatten()(m1)\n",
    "d1 = tf.keras.layers.Dense(64, activation='relu')(x)\n",
    "d2 = tf.keras.layers.Dense(64, activation='relu')(d1)\n",
    "predictions = tf.keras.layers.Dense(10, activation='softmax')(d2)"
   ]
  },
  {
   "cell_type": "code",
   "execution_count": 4,
   "metadata": {},
   "outputs": [],
   "source": [
    "model = tf.keras.Model(inputs=inputs, outputs=predictions)\n",
    "model.compile(optimizer='adam',\n",
    "              loss='sparse_categorical_crossentropy',\n",
    "              metrics=['accuracy'])"
   ]
  },
  {
   "cell_type": "code",
   "execution_count": 5,
   "metadata": {},
   "outputs": [
    {
     "name": "stdout",
     "output_type": "stream",
     "text": [
      "_________________________________________________________________\n",
      "Layer (type)                 Output Shape              Param #   \n",
      "=================================================================\n",
      "input_1 (InputLayer)         (None, 28, 28, 1)         0         \n",
      "_________________________________________________________________\n",
      "conv2d (Conv2D)              (None, 24, 24, 10)        260       \n",
      "_________________________________________________________________\n",
      "max_pooling2d (MaxPooling2D) (None, 12, 12, 10)        0         \n",
      "_________________________________________________________________\n",
      "flatten (Flatten)            (None, 1440)              0         \n",
      "_________________________________________________________________\n",
      "dense (Dense)                (None, 64)                92224     \n",
      "_________________________________________________________________\n",
      "dense_1 (Dense)              (None, 64)                4160      \n",
      "_________________________________________________________________\n",
      "dense_2 (Dense)              (None, 10)                650       \n",
      "=================================================================\n",
      "Total params: 97,294\n",
      "Trainable params: 97,294\n",
      "Non-trainable params: 0\n",
      "_________________________________________________________________\n",
      "None\n"
     ]
    }
   ],
   "source": [
    "print(model.summary())"
   ]
  },
  {
   "cell_type": "code",
   "execution_count": 7,
   "metadata": {
    "scrolled": true
   },
   "outputs": [
    {
     "name": "stdout",
     "output_type": "stream",
     "text": [
      "Epoch 1/5\n",
      "60000/60000 [==============================] - 35s 587us/step - loss: 0.0222 - acc: 0.9929\n",
      "Epoch 2/5\n",
      "60000/60000 [==============================] - 35s 579us/step - loss: 0.0173 - acc: 0.9943\n",
      "Epoch 3/5\n",
      "60000/60000 [==============================] - 35s 578us/step - loss: 0.0145 - acc: 0.9950\n",
      "Epoch 4/5\n",
      "60000/60000 [==============================] - 35s 577us/step - loss: 0.0126 - acc: 0.9959\n",
      "Epoch 5/5\n",
      "60000/60000 [==============================] - 35s 578us/step - loss: 0.0122 - acc: 0.9963\n",
      "10000/10000 [==============================] - 3s 325us/step\n"
     ]
    },
    {
     "data": {
      "text/plain": [
       "[0.06389692387172254, 0.9835]"
      ]
     },
     "execution_count": 7,
     "metadata": {},
     "output_type": "execute_result"
    }
   ],
   "source": [
    "model.fit(x_train, y_train, epochs=5, batch_size=32)\n",
    "model.evaluate(x_test, y_test)"
   ]
  },
  {
   "cell_type": "markdown",
   "metadata": {},
   "source": [
    "# Visualize intermediate layers"
   ]
  },
  {
   "cell_type": "code",
   "execution_count": 50,
   "metadata": {},
   "outputs": [],
   "source": [
    "import matplotlib.pyplot as plt\n",
    "%matplotlib inline\n",
    "\n",
    "def visualize_layer(model, layer_index, img):\n",
    "    # create model with desired layer to visualize as output\n",
    "    model_vis = tf.keras.Model(inputs=inputs, outputs=model.get_layer(index=layer_index).output)\n",
    "    img_layer = model_vis.predict(img.reshape([-1,28,28,1]))\n",
    "    print(img_layer.shape)\n",
    "    # plot\n",
    "    plt.figure(1, figsize=(16, 9))\n",
    "    nb_filters = model.get_layer(index=1).output_shape[-1]\n",
    "    for i in range(nb_filters):\n",
    "        plt.subplot(3, np.ceil(nb_filters/2),i+1)\n",
    "        plt.imshow(img_layer[0,:,:,i])\n",
    "        plt.title(\"filter \" + str(i+1))\n",
    "    plt.subplot(3,np.ceil(nb_filters/2),nb_filters+1)\n",
    "    plt.imshow(img)\n",
    "    plt.title(\"original image\")\n",
    "    plt.show()"
   ]
  },
  {
   "cell_type": "code",
   "execution_count": 51,
   "metadata": {},
   "outputs": [
    {
     "name": "stdout",
     "output_type": "stream",
     "text": [
      "(1, 24, 24, 10)\n"
     ]
    },
    {
     "data": {
      "image/png": "[encoded data removed]",
      "text/plain": [
       "<Figure size 1152x648 with 11 Axes>"
      ]
     },
     "metadata": {
      "needs_background": "light"
     },
     "output_type": "display_data"
    }
   ],
   "source": [
    "# example:\n",
    "img = x_test[1].reshape([28,28])\n",
    "img_label = y_test[1]\n",
    "layer_index = 1 # 1st convolutional layer\n",
    "visualize_layer(model, layer_index, img)"
   ]
  },
  {
   "cell_type": "markdown",
   "metadata": {},
   "source": [
    "# Saliency map"
   ]
  },
  {
   "cell_type": "code",
   "execution_count": 64,
   "metadata": {},
   "outputs": [],
   "source": [
    "grad = tf.gradients(predictions,inputs)\n",
    "salienced_img = ksess.run(grad, feed_dict={inputs:[x_test[1]]})"
   ]
  },
  {
   "cell_type": "code",
   "execution_count": 87,
   "metadata": {},
   "outputs": [],
   "source": [
    "def saliency_map(model, img):\n",
    "    ksess = tf.keras.backend.get_session()\n",
    "    grad = tf.gradients(model.output, model.input, stop_gradients)\n",
    "    salienced_img = ksess.run(grad, feed_dict={inputs:img.reshape([-1,28,28,1])})\n",
    "    # plot\n",
    "    plt.subplot(1,2,1)\n",
    "    plt.imshow(salienced_img[0].reshape([28,28]))\n",
    "    plt.subplot(1,2,2)\n",
    "    plt.imshow(img)\n",
    "    plt.show()"
   ]
  },
  {
   "cell_type": "code",
   "execution_count": 93,
   "metadata": {},
   "outputs": [
    {
     "name": "stdout",
     "output_type": "stream",
     "text": [
      "4 4\n"
     ]
    },
    {
     "data": {
      "image/png": "[encoded data removed]",
      "text/plain": [
       "<Figure size 432x288 with 2 Axes>"
      ]
     },
     "metadata": {
      "needs_background": "light"
     },
     "output_type": "display_data"
    }
   ],
   "source": [
    "# example:\n",
    "i = 4\n",
    "img = x_test[i].reshape([28,28])\n",
    "img_label = y_test[i]\n",
    "layer_index = 1 # 1st convolutional layer\n",
    "print(y_test[i], np.argmax(model.predict(x_test[i].reshape([-1,28,28,1]))))\n",
    "saliency_map(model, img)"
   ]
  },
  {
   "cell_type": "code",
   "execution_count": 72,
   "metadata": {},
   "outputs": [
    {
     "data": {
      "image/png": "[encoded data removed]",
      "text/plain": [
       "<Figure size 432x288 with 2 Axes>"
      ]
     },
     "metadata": {
      "needs_background": "light"
     },
     "output_type": "display_data"
    }
   ],
   "source": [
    "# example:\n",
    "i = 1\n",
    "img = x_test[i].reshape([28,28])\n",
    "img_label = y_test[i]\n",
    "layer_index = 1 # 1st convolutional layer\n",
    "print(y_test[i], np.argmax(model.predict(x_test[i].reshape([-1,28,28,1]))))\n",
    "saliency_map(model, img)"
   ]
  }
 ],
 "metadata": {
  "kernelspec": {
   "display_name": "Python 3",
   "language": "python",
   "name": "python3"
  },
  "language_info": {
   "codemirror_mode": {
    "name": "ipython",
    "version": 3
   },
   "file_extension": ".py",
   "mimetype": "text/x-python",
   "name": "python",
   "nbconvert_exporter": "python",
   "pygments_lexer": "ipython3",
   "version": "3.5.3"
  }
 },
 "nbformat": 4,
 "nbformat_minor": 2
}
